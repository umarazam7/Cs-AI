{
 "cells": [
  {
   "cell_type": "code",
   "execution_count": null,
   "id": "f948826e",
   "metadata": {},
   "outputs": [],
   "source": [
    "amount=float(input(\"enter the amount of the food =\"))\n",
    "tip=(0.18*amount)\n",
    "sales_tax=(0.7*amount)\n",
    "Total_charge=amount+tip+sales_tax\n",
    "print(\"your total amount :\" + str(Total_charge))"
   ]
  }
 ],
 "metadata": {
  "kernelspec": {
   "display_name": "Python 3",
   "language": "python",
   "name": "python3"
  },
  "language_info": {
   "codemirror_mode": {
    "name": "ipython",
    "version": 3
   },
   "file_extension": ".py",
   "mimetype": "text/x-python",
   "name": "python",
   "nbconvert_exporter": "python",
   "pygments_lexer": "ipython3",
   "version": "3.8.8"
  }
 },
 "nbformat": 4,
 "nbformat_minor": 5
}
