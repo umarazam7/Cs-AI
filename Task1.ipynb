{
 "cells": [
  {
   "cell_type": "code",
   "execution_count": null,
   "id": "cf9f4499",
   "metadata": {},
   "outputs": [],
   "source": [
    "amount = float(input(\"enter the amount of your purchasing : \"))\n",
    "state_tax=amount*0.05\n",
    "print(\"your sales tax : \"+ str(state_tax))\n",
    "county_tax=amount*0.025\n",
    "print(\"your county tax  : \" + str(county_tax))\n",
    "total_tax=state_tax+county_tax\n",
    "print(\"your total tax : \" +str(total_tax))\n",
    "total_amount=amount+total_tax\n",
    "print(\"your total bill : \" +str(total_amount))"
   ]
  }
 ],
 "metadata": {
  "kernelspec": {
   "display_name": "Python 3",
   "language": "python",
   "name": "python3"
  },
  "language_info": {
   "codemirror_mode": {
    "name": "ipython",
    "version": 3
   },
   "file_extension": ".py",
   "mimetype": "text/x-python",
   "name": "python",
   "nbconvert_exporter": "python",
   "pygments_lexer": "ipython3",
   "version": "3.8.8"
  }
 },
 "nbformat": 4,
 "nbformat_minor": 5
}
