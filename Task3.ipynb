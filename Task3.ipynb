{
 "cells": [
  {
   "cell_type": "markdown",
   "id": "354ca89c",
   "metadata": {},
   "source": [
    "# A cookie recipe calls for the following ingredients: * 1.5 cups of sugar * 1 cup of butter * 2.75 cups\n",
    "of flour\n",
    "The recipe produces 48 cookies with this amount of the ingredients. Write a program that asks\n",
    "the user how many cookies he or she wants to make, and then displays the number of cups of each\n",
    "ingredient needed for the specified number of cookies"
   ]
  },
  {
   "cell_type": "code",
   "execution_count": 8,
   "id": "80132429",
   "metadata": {},
   "outputs": [
    {
     "name": "stdout",
     "output_type": "stream",
     "text": [
      "enter the amount of cookies : 70\n",
      "2.1875\n",
      "1.4583333333333333\n",
      "4.010416666666667\n"
     ]
    }
   ],
   "source": [
    "amount_of_cookies=int(input(\"enter the amount of cookies : \"))\n",
    "sugar=1.5\n",
    "butter=1\n",
    "flour=2.75\n",
    "cookies=48\n",
    "cup_1=sugar*amount_of_cookies/cookies\n",
    "print(cup_1)\n",
    "cup_2=butter*amount_of_cookies/cookies\n",
    "print(cup_2)\n",
    "cup_3=flour*amount_of_cookies/cookies\n",
    "print(cup_3)"
   ]
  },
  {
   "cell_type": "code",
   "execution_count": null,
   "id": "e310b81c",
   "metadata": {},
   "outputs": [],
   "source": []
  }
 ],
 "metadata": {
  "kernelspec": {
   "display_name": "Python 3",
   "language": "python",
   "name": "python3"
  }
 },
 "nbformat": 4,
 "nbformat_minor": 5
}
