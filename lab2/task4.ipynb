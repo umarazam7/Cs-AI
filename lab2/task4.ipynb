{
 "cells": [
  {
   "cell_type": "code",
   "execution_count": 4,
   "id": "0e9c1d67",
   "metadata": {},
   "outputs": [
    {
     "name": "stdout",
     "output_type": "stream",
     "text": [
      "enter your height : 5.7\n",
      "enter your weight : 69.0\n",
      "your BMI is : 1492.9824561403507\n",
      "you are heavyweight\n"
     ]
    }
   ],
   "source": [
    "height=float(input(\"enter your height : \"))\n",
    "weight=float(input(\"enter your weight : \"))\n",
    "BMI=weight*703/height**2\n",
    "print(\"your BMI is :\",BMI)\n",
    "if float(BMI)>=18.5 and BMI<25:\n",
    "    print(\"you are optimal\")\n",
    "elif float(BMI)<18.5:\n",
    "    print(\"you are underweight\")\n",
    "elif BMI>25:\n",
    "    print(\"you are heavyweight\")    \n",
    "    "
   ]
  }
 ],
 "metadata": {
  "kernelspec": {
   "display_name": "Python 3",
   "language": "python",
   "name": "python3"
  },
  "language_info": {
   "codemirror_mode": {
    "name": "ipython",
    "version": 3
   },
   "file_extension": ".py",
   "mimetype": "text/x-python",
   "name": "python",
   "nbconvert_exporter": "python",
   "pygments_lexer": "ipython3",
   "version": "3.8.8"
  }
 },
 "nbformat": 4,
 "nbformat_minor": 5
}
