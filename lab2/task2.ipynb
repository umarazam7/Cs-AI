{
 "cells": [
  {
   "cell_type": "code",
   "execution_count": 3,
   "id": "20b723c1",
   "metadata": {},
   "outputs": [
    {
     "name": "stdout",
     "output_type": "stream",
     "text": [
      "enter the number of people coming :550\n",
      "enter the number of people for each hot dog :5\n",
      "275.0\n",
      "343.75\n"
     ]
    }
   ],
   "source": [
    "people=int(input(\"enter the number of people coming :\"))\n",
    "each_person_hotd=int(input(\"enter the number of people for each hot dog :\"))\n",
    "total_hotd=people*each_person_hotd/10\n",
    "print(total_hotd)\n",
    "total_hotb=people*each_person_hotd/8\n",
    "print(total_hotb)\n"
   ]
  }
 ],
 "metadata": {
  "kernelspec": {
   "display_name": "Python 3",
   "language": "python",
   "name": "python3"
  },
  "language_info": {
   "codemirror_mode": {
    "name": "ipython",
    "version": 3
   },
   "file_extension": ".py",
   "mimetype": "text/x-python",
   "name": "python",
   "nbconvert_exporter": "python",
   "pygments_lexer": "ipython3",
   "version": "3.8.8"
  }
 },
 "nbformat": 4,
 "nbformat_minor": 5
}
