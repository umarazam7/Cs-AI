{
 "cells": [
  {
   "cell_type": "code",
   "execution_count": 7,
   "id": "22071018",
   "metadata": {},
   "outputs": [
    {
     "name": "stdout",
     "output_type": "stream",
     "text": [
      "enter the number of packages : 15\n",
      "148.5\n"
     ]
    }
   ],
   "source": [
    "packages=int(input(\"enter the number of packages : \"))\n",
    "if packages>10&packages<19:\n",
    "    discount=packages*99/100*10\n",
    "    print(discount)\n",
    "elif packages>20&packages<49:\n",
    "    discount=packages*99/100*20\n",
    "    print(discount)\n",
    "elif packages>50&packages<99:\n",
    "    discount=packages*99/100*30\n",
    "    print(discount)\n",
    "elif packages>100&packages<100:\n",
    "    discount=packages*99/100*20\n",
    "\n",
    "    "
   ]
  }
 ],
 "metadata": {
  "kernelspec": {
   "display_name": "Python 3",
   "language": "python",
   "name": "python3"
  },
  "language_info": {
   "codemirror_mode": {
    "name": "ipython",
    "version": 3
   },
   "file_extension": ".py",
   "mimetype": "text/x-python",
   "name": "python",
   "nbconvert_exporter": "python",
   "pygments_lexer": "ipython3",
   "version": "3.8.8"
  }
 },
 "nbformat": 4,
 "nbformat_minor": 5
}
