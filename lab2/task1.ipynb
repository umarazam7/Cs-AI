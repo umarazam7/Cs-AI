{
 "cells": [
  {
   "cell_type": "code",
   "execution_count": 11,
   "id": "8ec63f89",
   "metadata": {},
   "outputs": [
    {
     "name": "stdout",
     "output_type": "stream",
     "text": [
      "enter the mass of an object : 600\n",
      "5880.0\n",
      "its heavy one\n"
     ]
    }
   ],
   "source": [
    "mass=str(input(\"enter the mass of an object : \"))\n",
    "weight = float(mass)*9.8\n",
    "print(weight)\n",
    "if weight>500:\n",
    "    print(\"its heavy one\")\n",
    "else:\n",
    "    print(\"its light one\")\n"
   ]
  }
 ],
 "metadata": {
  "kernelspec": {
   "display_name": "Python 3",
   "language": "python",
   "name": "python3"
  },
  "language_info": {
   "codemirror_mode": {
    "name": "ipython",
    "version": 3
   },
   "file_extension": ".py",
   "mimetype": "text/x-python",
   "name": "python",
   "nbconvert_exporter": "python",
   "pygments_lexer": "ipython3",
   "version": "3.8.8"
  }
 },
 "nbformat": 4,
 "nbformat_minor": 5
}
