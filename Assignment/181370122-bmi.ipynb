{
 "cells": [
  {
   "cell_type": "markdown",
   "id": "dfb16b94",
   "metadata": {},
   "source": [
    "# 1.\tYou are provided with a file named gym.csv that contains the names, weight, and height (in feet) of gym members. You are required to do the following:"
   ]
  },
  {
   "cell_type": "markdown",
   "id": "350a4da8",
   "metadata": {},
   "source": [
    "# a.\tCreate four empty lists named: names, height_feet, height_meters, weight"
   ]
  },
  {
   "cell_type": "markdown",
   "id": "7ecfdd94",
   "metadata": {},
   "source": [
    "names = {}\n",
    "height_feet = {}\n",
    "height_meters = {}\n",
    "weight = {}"
   ]
  },
  {
   "cell_type": "markdown",
   "id": "19acc235",
   "metadata": {},
   "source": [
    "# b.\tWrite a function named feet_to_meter with the following header:"
   ]
  },
  {
   "cell_type": "code",
   "execution_count": 1,
   "id": "f576f2be",
   "metadata": {},
   "outputs": [],
   "source": [
    "def  feet_to_meter(height):\n",
    "    height_in_meters=height_in_feet*0.3048\n",
    "    return round(height_in_meters,2)"
   ]
  },
  {
   "cell_type": "markdown",
   "id": "16550d38",
   "metadata": {},
   "source": [
    "# c.\tWrite a function named calculate_bmi that accepts two arguments: height (in meters) and weight in kg and returns the BMI using the following formula"
   ]
  },
  {
   "cell_type": "code",
   "execution_count": null,
   "id": "c513c8b0",
   "metadata": {},
   "outputs": [],
   "source": [
    "def calculate_bmi(height,weight):\n",
    "    bmi = weight/height**2\n",
    "    \n",
    "    "
   ]
  }
 ],
 "metadata": {
  "kernelspec": {
   "display_name": "Python 3",
   "language": "python",
   "name": "python3"
  },
  "language_info": {
   "codemirror_mode": {
    "name": "ipython",
    "version": 3
   },
   "file_extension": ".py",
   "mimetype": "text/x-python",
   "name": "python",
   "nbconvert_exporter": "python",
   "pygments_lexer": "ipython3",
   "version": "3.8.8"
  }
 },
 "nbformat": 4,
 "nbformat_minor": 5
}
