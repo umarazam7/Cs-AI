{
 "cells": [
  {
   "cell_type": "markdown",
   "id": "ba2b5f55",
   "metadata": {},
   "source": [
    "# Write a program that creates a dictionary containing course numbers and the room numbers of the\n",
    "rooms where the courses meet. The dictionary should have the following keyvalue pairs:"
   ]
  },
  {
   "cell_type": "code",
   "execution_count": 2,
   "id": "b2ba5aee",
   "metadata": {},
   "outputs": [
    {
     "name": "stdout",
     "output_type": "stream",
     "text": [
      "{'CS101': '3004', 'CS102': '4501', 'CS103': '6755', 'NT110': '1244', 'CM241': '1411'}\n"
     ]
    }
   ],
   "source": [
    "course_meet ={'CS101':'3004','CS102':'4501','CS103':'6755','NT110':'1244','CM241':'1411'}\n",
    "print(course_meet)"
   ]
  },
  {
   "cell_type": "code",
   "execution_count": 3,
   "id": "50f6083c",
   "metadata": {},
   "outputs": [
    {
     "name": "stdout",
     "output_type": "stream",
     "text": [
      "{'CS101': 'Haynes', 'CS102': 'Alvarado', 'CS103': 'Rich', 'NT110': 'Burke', 'CM241': 'Lee'}\n"
     ]
    }
   ],
   "source": [
    "key_value={'CS101':'Haynes','CS102':'Alvarado','CS103':'Rich','NT110':'Burke','CM241':'Lee'}\n",
    "print(key_value)"
   ]
  },
  {
   "cell_type": "code",
   "execution_count": 5,
   "id": "cc136c21",
   "metadata": {},
   "outputs": [
    {
     "name": "stdout",
     "output_type": "stream",
     "text": [
      "{'CS101': '8:00 a.m.', 'CS102': '9:00 a.m.', 'CS103': '10:00 a.m.', 'NT110': '11:00 a.m.', 'CM241': '1:00 p.m.'}\n"
     ]
    }
   ],
   "source": [
    "meeting_times ={'CS101':'8:00 a.m.','CS102':'9:00 a.m.','CS103':'10:00 a.m.','NT110':'11:00 a.m.','CM241':'1:00 p.m.'}\n",
    "print(meeting_times)"
   ]
  },
  {
   "cell_type": "code",
   "execution_count": null,
   "id": "7837d183",
   "metadata": {},
   "outputs": [],
   "source": []
  }
 ],
 "metadata": {
  "kernelspec": {
   "display_name": "Python 3",
   "language": "python",
   "name": "python3"
  },
  "language_info": {
   "codemirror_mode": {
    "name": "ipython",
    "version": 3
   },
   "file_extension": ".py",
   "mimetype": "text/x-python",
   "name": "python",
   "nbconvert_exporter": "python",
   "pygments_lexer": "ipython3",
   "version": "3.8.8"
  }
 },
 "nbformat": 4,
 "nbformat_minor": 5
}
