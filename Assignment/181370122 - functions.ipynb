{
 "cells": [
  {
   "cell_type": "markdown",
   "id": "4d4d30b6",
   "metadata": {},
   "source": [
    "# 1. Write a function named manhattan_distance to compute Manhattan Distance between two\n",
    "points:"
   ]
  },
  {
   "cell_type": "code",
   "execution_count": 11,
   "id": "9932073f",
   "metadata": {},
   "outputs": [
    {
     "data": {
      "text/plain": [
       "2"
      ]
     },
     "execution_count": 11,
     "metadata": {},
     "output_type": "execute_result"
    }
   ],
   "source": [
    "def manhattan_distance(x,x1,y,y1):\n",
    "        return abs(x-x1)+ abs(y-y1)\n",
    "manhattan_distance(1,2,3,4)"
   ]
  },
  {
   "cell_type": "markdown",
   "id": "4e514fe8",
   "metadata": {},
   "source": [
    "# 2. Write a function named euclidian_distance to compute Euclidian Distance between two points:"
   ]
  },
  {
   "cell_type": "code",
   "execution_count": 10,
   "id": "e8959cdb",
   "metadata": {},
   "outputs": [
    {
     "data": {
      "text/plain": [
       "1.4142135623730951"
      ]
     },
     "execution_count": 10,
     "metadata": {},
     "output_type": "execute_result"
    }
   ],
   "source": [
    "import math\n",
    "def euclidian_distance(x,x1,y,y1):\n",
    "    return sqrt((x1-x)**2 + (y1-y)**2)\n",
    "\n",
    "euclidian_distance(2,3,4,5)"
   ]
  },
  {
   "cell_type": "markdown",
   "id": "506cc9e0",
   "metadata": {},
   "source": [
    "# 4. Suppose that you are working on a financial application for Bank of Gujranwala. The financial\n",
    "application contains a module related to investments and returns. Your project manager\n",
    "assigned you the task of writing this module. For this task, you will write a simple .py file using\n",
    "any editor of your choice. However, Spyder is recommended. Name the file as\n",
    "financemodule.py and place this file in the same directory that contains your notebook. You are\n",
    "required to write the following functions:"
   ]
  },
  {
   "cell_type": "code",
   "execution_count": 16,
   "id": "961f3961",
   "metadata": {},
   "outputs": [
    {
     "name": "stdout",
     "output_type": "stream",
     "text": [
      "enter your balance :30\n",
      "enter your annual interest rate :24\n",
      "0.6\n"
     ]
    }
   ],
   "source": [
    "import module as m\n",
    "balance = float(input(\"enter your balance :\"))\n",
    "annual_interest_rate = float(input(\"enter your annual interest rate :\"))\n",
    "c = m.interest_monthly(balance,annual_interest_rate)\n",
    "print(c)"
   ]
  },
  {
   "cell_type": "code",
   "execution_count": 17,
   "id": "e496c5ad",
   "metadata": {},
   "outputs": [
    {
     "name": "stdout",
     "output_type": "stream",
     "text": [
      "enter your investment :30\n",
      "enter your interest rate :50\n",
      "enter your number of years :3\n",
      "47754360.0\n"
     ]
    }
   ],
   "source": [
    "investment_amount = float(input(\"enter your investment :\"))\n",
    "monthly_interest_rate =  float(input(\"enter your interest rate :\"))\n",
    "number_of_years = float(input(\"enter your number of years :\"))\n",
    "v = m.future_investment_value(investment_amount, monthly_interest_rate,  number_of_years )\n",
    "print(v)"
   ]
  },
  {
   "cell_type": "code",
   "execution_count": null,
   "id": "33f9ecc8",
   "metadata": {},
   "outputs": [],
   "source": []
  }
 ],
 "metadata": {
  "kernelspec": {
   "display_name": "Python 3",
   "language": "python",
   "name": "python3"
  },
  "language_info": {
   "codemirror_mode": {
    "name": "ipython",
    "version": 3
   },
   "file_extension": ".py",
   "mimetype": "text/x-python",
   "name": "python",
   "nbconvert_exporter": "python",
   "pygments_lexer": "ipython3",
   "version": "3.8.8"
  }
 },
 "nbformat": 4,
 "nbformat_minor": 5
}
