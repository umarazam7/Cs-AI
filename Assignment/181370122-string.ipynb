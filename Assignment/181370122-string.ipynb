{
 "cells": [
  {
   "cell_type": "markdown",
   "id": "27bca09e",
   "metadata": {},
   "source": [
    "# 1.\tConsider the string\t\t\t\t\t\t\t\t\n",
    "String  = “Hum honge kamyab, hum honge kamyab aik din”\n",
    "NOTE: Use slicing, indexing techniques and built-in functions. \n",
    "Write Python statements to perform following:"
   ]
  },
  {
   "cell_type": "markdown",
   "id": "2d9a1f8e",
   "metadata": {},
   "source": [
    "# a.\tPrint ,"
   ]
  },
  {
   "cell_type": "code",
   "execution_count": 1,
   "id": "268a412e",
   "metadata": {},
   "outputs": [
    {
     "name": "stdout",
     "output_type": "stream",
     "text": [
      "Hum honge kamyab, hum honge kamyab aik din\n"
     ]
    }
   ],
   "source": [
    "string = 'Hum honge kamyab, hum honge kamyab aik din'\n",
    "print(string)"
   ]
  },
  {
   "cell_type": "markdown",
   "id": "65f94cfc",
   "metadata": {},
   "source": [
    "# b.\tPrint substring ‘aik din’"
   ]
  },
  {
   "cell_type": "code",
   "execution_count": 3,
   "id": "7662c1a5",
   "metadata": {},
   "outputs": [
    {
     "name": "stdout",
     "output_type": "stream",
     "text": [
      "aik din\n"
     ]
    }
   ],
   "source": [
    "print(string[35:])"
   ]
  },
  {
   "cell_type": "markdown",
   "id": "6d3dabb4",
   "metadata": {},
   "source": [
    "# c.\tPrint ‘honge kamyab’"
   ]
  },
  {
   "cell_type": "code",
   "execution_count": 5,
   "id": "04dc1650",
   "metadata": {},
   "outputs": [
    {
     "name": "stdout",
     "output_type": "stream",
     "text": [
      "honge kamyab\n"
     ]
    }
   ],
   "source": [
    "print(string[4:16])"
   ]
  },
  {
   "cell_type": "markdown",
   "id": "756ff6e6",
   "metadata": {},
   "source": [
    "# d.\tFind and print the index of ‘hum’ "
   ]
  },
  {
   "cell_type": "code",
   "execution_count": 7,
   "id": "177cffc2",
   "metadata": {},
   "outputs": [
    {
     "name": "stdout",
     "output_type": "stream",
     "text": [
      "3\n",
      "['Hum', 'honge', 'kamyab,', 'hum', 'honge', 'kamyab', 'aik', 'din']\n"
     ]
    }
   ],
   "source": [
    "c =  string.split()\n",
    "for i in range(len(c)):\n",
    "    if 'hum' in c[i]:\n",
    "        print(i)\n"
   ]
  },
  {
   "cell_type": "markdown",
   "id": "d03aabf5",
   "metadata": {},
   "source": [
    "# e.\tPrints the number of occurrences of hum"
   ]
  },
  {
   "cell_type": "code",
   "execution_count": 8,
   "id": "be3bb539",
   "metadata": {},
   "outputs": [
    {
     "name": "stdout",
     "output_type": "stream",
     "text": [
      "1\n"
     ]
    }
   ],
   "source": [
    "c =  string.split()\n",
    "print(c.count('hum'))"
   ]
  },
  {
   "cell_type": "markdown",
   "id": "a84c909d",
   "metadata": {},
   "source": [
    "# f.\tChecks the membership of “LALALA”"
   ]
  },
  {
   "cell_type": "code",
   "execution_count": 11,
   "id": "25f62f52",
   "metadata": {},
   "outputs": [],
   "source": [
    "c =  string.split()\n",
    "for i in range(len(c)):\n",
    "    if 'LALALA' in c[i]:\n",
    "        print('true')\n",
    "    \n"
   ]
  },
  {
   "cell_type": "markdown",
   "id": "6a49e4bb",
   "metadata": {},
   "source": [
    "# g.\tChecks the membership of “,”"
   ]
  },
  {
   "cell_type": "code",
   "execution_count": 13,
   "id": "e56d8591",
   "metadata": {},
   "outputs": [
    {
     "name": "stdout",
     "output_type": "stream",
     "text": [
      "true\n"
     ]
    }
   ],
   "source": [
    "if ',' in string:\n",
    "    print('true')\n",
    "else:\n",
    "    print('false')"
   ]
  },
  {
   "cell_type": "markdown",
   "id": "9e584e32",
   "metadata": {},
   "source": [
    "# h.\tChecks if “KAMYAB” not present in String. "
   ]
  },
  {
   "cell_type": "code",
   "execution_count": 14,
   "id": "7fd86f3c",
   "metadata": {},
   "outputs": [
    {
     "name": "stdout",
     "output_type": "stream",
     "text": [
      "true\n"
     ]
    }
   ],
   "source": [
    "if 'KAMYAB' not in string:\n",
    "    print('true')\n",
    "else:\n",
    "    print('false')"
   ]
  },
  {
   "cell_type": "markdown",
   "id": "08595be2",
   "metadata": {},
   "source": [
    "# i.\tPrints ‘aik din’"
   ]
  },
  {
   "cell_type": "markdown",
   "id": "af8574db",
   "metadata": {},
   "source": [
    "# j.\tPrints ‘kamyab’ using negative indexes."
   ]
  },
  {
   "cell_type": "code",
   "execution_count": 15,
   "id": "d37898d6",
   "metadata": {},
   "outputs": [
    {
     "name": "stdout",
     "output_type": "stream",
     "text": [
      " kamyab\n"
     ]
    }
   ],
   "source": [
    "print(string[-15:-8])"
   ]
  },
  {
   "cell_type": "markdown",
   "id": "449e212a",
   "metadata": {},
   "source": [
    "# 2.\tConsider the string\t\t\t\t\t\t\t\t\n",
    "Message = “Boom: SanDisk just dropped the world’s largest SD card”\n",
    "Write Python statements to perform following: \t"
   ]
  },
  {
   "cell_type": "markdown",
   "id": "82c07a65",
   "metadata": {},
   "source": [
    "# a.\tCreates a new string named copyMessage using slicing technique. "
   ]
  },
  {
   "cell_type": "code",
   "execution_count": 22,
   "id": "088c1747",
   "metadata": {},
   "outputs": [
    {
     "name": "stdout",
     "output_type": "stream",
     "text": [
      "Boom: SanDisk just dropped the world’s largest SD card\n"
     ]
    }
   ],
   "source": [
    "Message = 'Boom: SanDisk just dropped the world’s largest SD card'\n",
    "copyMessage = Message[:] \n",
    "print(copyMessage)"
   ]
  },
  {
   "cell_type": "markdown",
   "id": "2b21a0c1",
   "metadata": {},
   "source": [
    "# c.\tFind the length of substring “SD card” using slicing. "
   ]
  },
  {
   "cell_type": "code",
   "execution_count": 18,
   "id": "cf3cfcb8",
   "metadata": {},
   "outputs": [
    {
     "name": "stdout",
     "output_type": "stream",
     "text": [
      "6\n"
     ]
    }
   ],
   "source": [
    "print(len(Message[-7:-1]))"
   ]
  },
  {
   "cell_type": "markdown",
   "id": "5dd2be6b",
   "metadata": {},
   "source": [
    "# d.\tStore the result of membership check of substring “LA” in memCheck."
   ]
  },
  {
   "cell_type": "code",
   "execution_count": 19,
   "id": "7440213f",
   "metadata": {},
   "outputs": [],
   "source": [
    "if 'LA' in Message:\n",
    "    memCheck= 'true'\n",
    "else:\n",
    "    memCheck='false'"
   ]
  },
  {
   "cell_type": "markdown",
   "id": "1a6d61d9",
   "metadata": {},
   "source": [
    "# e.\tCreate a new string from above string of width 100 with text centered and name it as newMessage."
   ]
  },
  {
   "cell_type": "code",
   "execution_count": 20,
   "id": "f955292f",
   "metadata": {},
   "outputs": [
    {
     "name": "stdout",
     "output_type": "stream",
     "text": [
      "                       Boom: SanDisk just dropped the world’s largest SD card                       \n"
     ]
    }
   ],
   "source": [
    "newMessage=Message[:]\n",
    "print(newMessage.center(100))"
   ]
  },
  {
   "cell_type": "markdown",
   "id": "ff55fd49",
   "metadata": {},
   "source": [
    "# f.\tCreate another new string from above string of width 100 and empty spaces filled by character *. Name the string as newMessage2."
   ]
  },
  {
   "cell_type": "code",
   "execution_count": 25,
   "id": "c76427e7",
   "metadata": {},
   "outputs": [
    {
     "name": "stdout",
     "output_type": "stream",
     "text": [
      "***********************Boom: SanDisk just dropped the world’s largest SD card***********************\n"
     ]
    }
   ],
   "source": [
    "newMessage2=newMessage[:]\n",
    "\n",
    "print(newMessage2.center(100 , '*'))\n"
   ]
  },
  {
   "cell_type": "markdown",
   "id": "e36dbb92",
   "metadata": {},
   "source": [
    "# g.\tChecks if the string from index 14 to 17 finishes with the word “ped”. Store result in a new variable named suffixCheck. Print its value."
   ]
  },
  {
   "cell_type": "code",
   "execution_count": 30,
   "id": "b775ddf1",
   "metadata": {},
   "outputs": [
    {
     "name": "stdout",
     "output_type": "stream",
     "text": [
      "false\n"
     ]
    }
   ],
   "source": [
    "\n",
    "if 'ped' in Message[14:17]:\n",
    "    suffixCheck='true'\n",
    "else:\n",
    "    suffixCheck='false'\n",
    "print(suffixCheck)    \n"
   ]
  },
  {
   "cell_type": "markdown",
   "id": "d49fd875",
   "metadata": {},
   "source": [
    "# h.\tChecks the membership of “1 TB” in string. Stores the result in a variable named membershipCheck. Print it."
   ]
  },
  {
   "cell_type": "code",
   "execution_count": 32,
   "id": "28426872",
   "metadata": {},
   "outputs": [
    {
     "name": "stdout",
     "output_type": "stream",
     "text": [
      "false\n"
     ]
    }
   ],
   "source": [
    "if '1 TB' in Message[14:17]:\n",
    "    membershipCheck='true'\n",
    "else:\n",
    "    membershipCheck='false'\n",
    "print(membershipCheck)  "
   ]
  },
  {
   "cell_type": "markdown",
   "id": "98ee24f6",
   "metadata": {},
   "source": [
    "# j.\tCreate a new string name anotherString of length twice the length of original string and empty spaces filled with *. "
   ]
  },
  {
   "cell_type": "code",
   "execution_count": 34,
   "id": "8ed0aff7",
   "metadata": {},
   "outputs": [
    {
     "name": "stdout",
     "output_type": "stream",
     "text": [
      "Boom:*SanDisk*just*dropped*the*world’s*largest*SD*cardBoom:*SanDisk*just*dropped*the*world’s*largest*SD*card\n"
     ]
    }
   ],
   "source": [
    "anotherString=(Message*2).replace(\" \",\"*\")\n",
    "print(anotherString)"
   ]
  },
  {
   "cell_type": "code",
   "execution_count": null,
   "id": "d16f536d",
   "metadata": {},
   "outputs": [],
   "source": []
  }
 ],
 "metadata": {
  "kernelspec": {
   "display_name": "Python 3",
   "language": "python",
   "name": "python3"
  },
  "language_info": {
   "codemirror_mode": {
    "name": "ipython",
    "version": 3
   },
   "file_extension": ".py",
   "mimetype": "text/x-python",
   "name": "python",
   "nbconvert_exporter": "python",
   "pygments_lexer": "ipython3",
   "version": "3.8.8"
  }
 },
 "nbformat": 4,
 "nbformat_minor": 5
}
