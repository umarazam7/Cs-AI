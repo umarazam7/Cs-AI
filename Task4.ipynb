{
 "cells": [
  {
   "cell_type": "markdown",
   "id": "497f2bc7",
   "metadata": {},
   "source": [
    "# Write a program that asks the user for the number of males and the number of females registered\n",
    "in a class. The program should display the percentage of males and females in the class.\n",
    "Hint: Suppose there are 8 males and 12 females in a class. There are 20 students in the class. The\n",
    "percentage of males can be calculated as 8 4 20 5 0.4, or 40%. The percentage of females can be\n",
    "calculated as 12 4 20 5 0.6, or 60%."
   ]
  },
  {
   "cell_type": "code",
   "execution_count": 1,
   "id": "81110287",
   "metadata": {},
   "outputs": [
    {
     "name": "stdout",
     "output_type": "stream",
     "text": [
      "enter total number of students :40\n",
      "enter number of males students : 15\n",
      "enter number of females students : 25\n"
     ]
    }
   ],
   "source": [
    "total_students=int(input(\"enter total number of students :\" ))\n",
    "number_of_males=int(input(\"enter number of males students : \"))\n",
    "number_of_females=int(input(\"enter number of females students : \"))\n",
    "\n",
    "\n",
    "\n"
   ]
  },
  {
   "cell_type": "code",
   "execution_count": 3,
   "id": "110d9014",
   "metadata": {},
   "outputs": [
    {
     "name": "stdout",
     "output_type": "stream",
     "text": [
      "percentage of males students :0.375\n",
      "percentage of females students :0.625\n"
     ]
    }
   ],
   "source": [
    "perc_of_males=number_of_males/total_students\n",
    "print(\"percentage of males students :\" + str(perc_of_males))\n",
    "perc_of_females=number_of_females/total_students\n",
    "print(\"percentage of females students :\" + str(perc_of_females))"
   ]
  }
 ],
 "metadata": {
  "kernelspec": {
   "display_name": "Python 3",
   "language": "python",
   "name": "python3"
  },
  "language_info": {
   "codemirror_mode": {
    "name": "ipython",
    "version": 3
   },
   "file_extension": ".py",
   "mimetype": "text/x-python",
   "name": "python",
   "nbconvert_exporter": "python",
   "pygments_lexer": "ipython3",
   "version": "3.8.8"
  }
 },
 "nbformat": 4,
 "nbformat_minor": 5
}
